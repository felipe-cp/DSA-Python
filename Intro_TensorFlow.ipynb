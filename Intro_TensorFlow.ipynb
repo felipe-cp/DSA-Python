{
  "nbformat": 4,
  "nbformat_minor": 0,
  "metadata": {
    "colab": {
      "name": "Intro_TensorFlow",
      "provenance": [],
      "authorship_tag": "ABX9TyP08pBAzvSpWGpMqeLZwTmC",
      "include_colab_link": true
    },
    "kernelspec": {
      "name": "python3",
      "display_name": "Python 3"
    }
  },
  "cells": [
    {
      "cell_type": "markdown",
      "metadata": {
        "id": "view-in-github",
        "colab_type": "text"
      },
      "source": [
        "<a href=\"https://colab.research.google.com/github/felipe-cp/DSA-Python/blob/master/Intro_TensorFlow.ipynb\" target=\"_parent\"><img src=\"https://colab.research.google.com/assets/colab-badge.svg\" alt=\"Open In Colab\"/></a>"
      ]
    },
    {
      "cell_type": "code",
      "metadata": {
        "id": "JuehLjYgxpnw",
        "colab_type": "code",
        "colab": {
          "base_uri": "https://localhost:8080/",
          "height": 88
        },
        "outputId": "d4883e3e-2be0-4771-a97b-526890f9c734"
      },
      "source": [
        "# Esses exemplos sofreram algumas alterações no TensorFlow 2.0, por isso estamos usando o TF 1.x como um comportamento no TF 2.0\n",
        "import tensorflow.compat.v1 as tf\n",
        "tf.disable_v2_behavior()"
      ],
      "execution_count": null,
      "outputs": [
        {
          "output_type": "stream",
          "text": [
            "WARNING:tensorflow:From /usr/local/lib/python3.6/dist-packages/tensorflow/python/compat/v2_compat.py:96: disable_resource_variables (from tensorflow.python.ops.variable_scope) is deprecated and will be removed in a future version.\n",
            "Instructions for updating:\n",
            "non-resource variables are not supported in the long term\n"
          ],
          "name": "stdout"
        }
      ]
    },
    {
      "cell_type": "code",
      "metadata": {
        "id": "MkSrLqn0yBc5",
        "colab_type": "code",
        "colab": {
          "base_uri": "https://localhost:8080/",
          "height": 34
        },
        "outputId": "a0170fa9-8f19-48e8-a2e8-925ad9c135b7"
      },
      "source": [
        "tf.__version__"
      ],
      "execution_count": null,
      "outputs": [
        {
          "output_type": "execute_result",
          "data": {
            "text/plain": [
              "'2.2.0'"
            ]
          },
          "metadata": {
            "tags": []
          },
          "execution_count": 2
        }
      ]
    },
    {
      "cell_type": "code",
      "metadata": {
        "id": "Bg8HOZNpyHZp",
        "colab_type": "code",
        "colab": {}
      },
      "source": [
        "# Criar um tensor\n",
        "# Esse tensor é adicionado como um nó ao grafo\n",
        "hello = tf.constant('Hello, TensorFlow!!')"
      ],
      "execution_count": null,
      "outputs": []
    },
    {
      "cell_type": "code",
      "metadata": {
        "id": "IYQ02vHOylCy",
        "colab_type": "code",
        "colab": {
          "base_uri": "https://localhost:8080/",
          "height": 34
        },
        "outputId": "3158a38e-e2c2-4dc7-cfea-4d14d19cecf4"
      },
      "source": [
        "print(hello)"
      ],
      "execution_count": null,
      "outputs": [
        {
          "output_type": "stream",
          "text": [
            "Tensor(\"Const:0\", shape=(), dtype=string)\n"
          ],
          "name": "stdout"
        }
      ]
    },
    {
      "cell_type": "code",
      "metadata": {
        "id": "Sv_ExgjLzSpq",
        "colab_type": "code",
        "colab": {}
      },
      "source": [
        "# Inicia a sessão TensorFlow\n",
        "sess = tf.Session()"
      ],
      "execution_count": null,
      "outputs": []
    },
    {
      "cell_type": "code",
      "metadata": {
        "id": "cMEAjdE_2smg",
        "colab_type": "code",
        "colab": {
          "base_uri": "https://localhost:8080/",
          "height": 34
        },
        "outputId": "ac53e0f2-26a5-4138-da57-52045fdb7685"
      },
      "source": [
        "print(sess)"
      ],
      "execution_count": null,
      "outputs": [
        {
          "output_type": "stream",
          "text": [
            "<tensorflow.python.client.session.Session object at 0x7fb7b67a0e48>\n"
          ],
          "name": "stdout"
        }
      ]
    },
    {
      "cell_type": "code",
      "metadata": {
        "id": "k0rXQio_3Yfy",
        "colab_type": "code",
        "colab": {
          "base_uri": "https://localhost:8080/",
          "height": 34
        },
        "outputId": "9db3c647-3c7a-447b-c71e-f7d70175e280"
      },
      "source": [
        "print(sess.run(hello))"
      ],
      "execution_count": null,
      "outputs": [
        {
          "output_type": "stream",
          "text": [
            "b'Hello, TensorFlow!!'\n"
          ],
          "name": "stdout"
        }
      ]
    },
    {
      "cell_type": "code",
      "metadata": {
        "id": "da0n04ch5ov5",
        "colab_type": "code",
        "colab": {}
      },
      "source": [
        "const_a = tf.constant(5)\n",
        "const_b = tf.constant(9)"
      ],
      "execution_count": null,
      "outputs": []
    },
    {
      "cell_type": "code",
      "metadata": {
        "id": "F5s9qUfw5qUw",
        "colab_type": "code",
        "colab": {
          "base_uri": "https://localhost:8080/",
          "height": 34
        },
        "outputId": "527d0e44-bb56-45c7-80b6-2a989114d229"
      },
      "source": [
        "print(const_a)"
      ],
      "execution_count": null,
      "outputs": [
        {
          "output_type": "stream",
          "text": [
            "Tensor(\"Const_1:0\", shape=(), dtype=int32)\n"
          ],
          "name": "stdout"
        }
      ]
    },
    {
      "cell_type": "code",
      "metadata": {
        "id": "87O9Cxmb6Edp",
        "colab_type": "code",
        "colab": {}
      },
      "source": [
        "total = const_a + const_b"
      ],
      "execution_count": null,
      "outputs": []
    },
    {
      "cell_type": "code",
      "metadata": {
        "id": "FCea4XP_6Yho",
        "colab_type": "code",
        "colab": {
          "base_uri": "https://localhost:8080/",
          "height": 34
        },
        "outputId": "c8af1f94-510e-4a00-f2af-b645b69e6b18"
      },
      "source": [
        "print(total)"
      ],
      "execution_count": null,
      "outputs": [
        {
          "output_type": "stream",
          "text": [
            "Tensor(\"add:0\", shape=(), dtype=int32)\n"
          ],
          "name": "stdout"
        }
      ]
    },
    {
      "cell_type": "code",
      "metadata": {
        "id": "cH23oSHq7Xog",
        "colab_type": "code",
        "colab": {
          "base_uri": "https://localhost:8080/",
          "height": 51
        },
        "outputId": "ca1194a8-5f5d-4039-d01e-34c63a18e483"
      },
      "source": [
        "with tf.Session() as sess:\n",
        "  print('\\nA soma do node1 com o node2 é: %f' % sess.run(total))"
      ],
      "execution_count": null,
      "outputs": [
        {
          "output_type": "stream",
          "text": [
            "\n",
            "A soma do node1 com o node2 é: 14.000000\n"
          ],
          "name": "stdout"
        }
      ]
    },
    {
      "cell_type": "code",
      "metadata": {
        "id": "Gj22EXxu8Hb3",
        "colab_type": "code",
        "colab": {
          "base_uri": "https://localhost:8080/",
          "height": 51
        },
        "outputId": "4765c938-7fc9-46af-fec3-9846566592c1"
      },
      "source": [
        "# Tudo isso pode ser resumido da seguinte forma: \n",
        "node1 = tf.constant(20, dtype=tf.int32)\n",
        "node2 = tf.constant(30, dtype=tf.int32)\n",
        "node3 = tf.add(node1, node2)\n",
        "\n",
        "# Criar a sessão TF\n",
        "sess = tf.Session()\n",
        "\n",
        "# Executa o grafo\n",
        "print(\"\\nA soma do node1 com o node2 é:\", sess.run(node3))\n",
        "\n",
        "# Fecha a sessão\n",
        "sess.close()"
      ],
      "execution_count": null,
      "outputs": [
        {
          "output_type": "stream",
          "text": [
            "\n",
            "A soma do node1 com o node2 é: 50\n"
          ],
          "name": "stdout"
        }
      ]
    },
    {
      "cell_type": "code",
      "metadata": {
        "id": "P9gl68YOA-2G",
        "colab_type": "code",
        "colab": {
          "base_uri": "https://localhost:8080/",
          "height": 51
        },
        "outputId": "a949bb05-9c50-462a-d0e0-18914d326692"
      },
      "source": [
        "# Tensores randômicos\n",
        "rand_a = tf.random_normal([3], 2.0)\n",
        "rand_b = tf.random_uniform([3], 1.0, 4.0)\n",
        "print(rand_a)\n",
        "print(rand_b)"
      ],
      "execution_count": null,
      "outputs": [
        {
          "output_type": "stream",
          "text": [
            "Tensor(\"random_normal:0\", shape=(3,), dtype=float32)\n",
            "Tensor(\"random_uniform:0\", shape=(3,), dtype=float32)\n"
          ],
          "name": "stdout"
        }
      ]
    },
    {
      "cell_type": "code",
      "metadata": {
        "id": "3rJQz0jVB9s4",
        "colab_type": "code",
        "colab": {
          "base_uri": "https://localhost:8080/",
          "height": 119
        },
        "outputId": "b656dba7-8bf2-4c7c-eb23-8db6cb8a2846"
      },
      "source": [
        "# Subtração\n",
        "diff = tf.subtract(rand_a, rand_b)\n",
        "with tf.Session() as sess:\n",
        "\tprint('\\nTensor rand_a: ', sess.run(rand_a))\n",
        "\tprint('\\nTensor rand_b: ', sess.run(rand_b))\n",
        "\tprint('\\nSubtração entre os dois tensores é: ', sess.run(diff))"
      ],
      "execution_count": null,
      "outputs": [
        {
          "output_type": "stream",
          "text": [
            "\n",
            "Tensor rand_a:  [1.751864  3.1307645 2.3862913]\n",
            "\n",
            "Tensor rand_b:  [3.0687227 1.284469  1.912657 ]\n",
            "\n",
            "Subtração entre os dois tensores é:  [-1.9518921 -0.4499687  0.7236186]\n"
          ],
          "name": "stdout"
        }
      ]
    },
    {
      "cell_type": "code",
      "metadata": {
        "id": "kBdaZLXaDc8o",
        "colab_type": "code",
        "colab": {
          "base_uri": "https://localhost:8080/",
          "height": 102
        },
        "outputId": "b8fd9c25-04eb-4aa7-f0db-53a00da35667"
      },
      "source": [
        "# Divisão\n",
        "node1 = tf.constant(21, dtype=tf.int32)\n",
        "node2 = tf.constant(7, dtype=tf.int32)\n",
        "div = tf.div(node1, node2)\n",
        "# Sessão TF\n",
        "with tf.Session() as sess:\n",
        "\tprint('\\nDivisão entre os 2 tensores é: ', sess.run(div))"
      ],
      "execution_count": null,
      "outputs": [
        {
          "output_type": "stream",
          "text": [
            "WARNING:tensorflow:From <ipython-input-16-26d924fdd277>:4: div (from tensorflow.python.ops.math_ops) is deprecated and will be removed in a future version.\n",
            "Instructions for updating:\n",
            "Deprecated in favor of operator or tf.math.divide.\n",
            "\n",
            "Divisão entre os 2 tensores é:  3\n"
          ],
          "name": "stdout"
        }
      ]
    },
    {
      "cell_type": "code",
      "metadata": {
        "id": "jUjGCPwsvXZJ",
        "colab_type": "code",
        "colab": {
          "base_uri": "https://localhost:8080/",
          "height": 51
        },
        "outputId": "768a9e68-c537-4645-b45d-9b5e149fff8f"
      },
      "source": [
        "# Multiplicação de tensores\n",
        "# Criando os tensores \n",
        "tensor_a = tf.constant([[4., 2.]])\n",
        "tensor_b = tf.constant([[3.], [7.]])\n",
        "print(tensor_a)\n",
        "print(tensor_b)"
      ],
      "execution_count": null,
      "outputs": [
        {
          "output_type": "stream",
          "text": [
            "Tensor(\"Const_7:0\", shape=(1, 2), dtype=float32)\n",
            "Tensor(\"Const_8:0\", shape=(2, 1), dtype=float32)\n"
          ],
          "name": "stdout"
        }
      ]
    },
    {
      "cell_type": "code",
      "metadata": {
        "id": "KZH_IHVnwges",
        "colab_type": "code",
        "colab": {
          "base_uri": "https://localhost:8080/",
          "height": 204
        },
        "outputId": "f079d572-5d4a-488a-9bb1-d803146a27fb"
      },
      "source": [
        "# tf.multiply(X, Y) executa multiplicação element-wise (multiplicação de matrizes)\n",
        "prod = tf.multiply(tensor_a, tensor_b)\n",
        "\n",
        "# Executa a sessão\n",
        "with tf.Session() as sess:\n",
        "\tprint('\\ntensor_a: \\n', sess.run(tensor_a))\n",
        "\tprint('\\ntensor_b: \\n', sess.run(tensor_b))\n",
        "\tprint('\\nProduto Element-wise entre os tensores: \\n', sess.run(prod))"
      ],
      "execution_count": null,
      "outputs": [
        {
          "output_type": "stream",
          "text": [
            "\n",
            "tensor_a: \n",
            " [[4. 2.]]\n",
            "\n",
            "tensor_b: \n",
            " [[3.]\n",
            " [7.]]\n",
            "\n",
            "Produto Element-wise entre os tensores: \n",
            " [[12.  6.]\n",
            " [28. 14.]]\n"
          ],
          "name": "stdout"
        }
      ]
    },
    {
      "cell_type": "code",
      "metadata": {
        "id": "IjoyUpMkwqAR",
        "colab_type": "code",
        "colab": {
          "base_uri": "https://localhost:8080/",
          "height": 51
        },
        "outputId": "4750991b-19fa-4ff5-df81-bce9d5ad0974"
      },
      "source": [
        "# Outro exemplo de multiplicação de matrizes\n",
        "mat_a = tf.constant([[2, 3], [9, 2], [4, 5]])\n",
        "mat_b = tf.constant([[6, 4, 5], [3, 7, 2]])\n",
        "print(mat_a)\n",
        "print(mat_b)"
      ],
      "execution_count": null,
      "outputs": [
        {
          "output_type": "stream",
          "text": [
            "Tensor(\"Const_9:0\", shape=(3, 2), dtype=int32)\n",
            "Tensor(\"Const_10:0\", shape=(2, 3), dtype=int32)\n"
          ],
          "name": "stdout"
        }
      ]
    },
    {
      "cell_type": "code",
      "metadata": {
        "id": "1WF4ULgJyAax",
        "colab_type": "code",
        "colab": {
          "base_uri": "https://localhost:8080/",
          "height": 255
        },
        "outputId": "396a0969-0a80-4aa8-ca1a-930b97fc3f87"
      },
      "source": [
        "# tf.matmul(X, Y) executa multiplicação entre matrizes \n",
        "mat_prod = tf.matmul(mat_a, mat_b)\n",
        "# Executa a sessão\n",
        "with tf.Session() as sess:\n",
        "\tprint('\\nTensor mat_a: \\n', sess.run(mat_a))\n",
        "\tprint('\\nTensor mat_b: \\n', sess.run(mat_b))\n",
        "\tprint('\\nProduto Element-wise entre os Tensores (Matrizes): \\n', sess.run(mat_prod))"
      ],
      "execution_count": null,
      "outputs": [
        {
          "output_type": "stream",
          "text": [
            "\n",
            "Tensor mat_a: \n",
            " [[2 3]\n",
            " [9 2]\n",
            " [4 5]]\n",
            "\n",
            "Tensor mat_b: \n",
            " [[6 4 5]\n",
            " [3 7 2]]\n",
            "\n",
            "Produto Element-wise entre os Tensores (Matrizes): \n",
            " [[21 29 16]\n",
            " [60 50 49]\n",
            " [39 51 30]]\n"
          ],
          "name": "stdout"
        }
      ]
    },
    {
      "cell_type": "code",
      "metadata": {
        "id": "qsjVMSdH8y5A",
        "colab_type": "code",
        "colab": {
          "base_uri": "https://localhost:8080/",
          "height": 153
        },
        "outputId": "260d30e4-476d-4c32-877d-bc7ccf0c1996"
      },
      "source": [
        "# Tensores com variáveis \n",
        "# Criando o tensor com zeros\n",
        "node = tf.Variable(tf.zeros([2, 2]))\n",
        "\n",
        "# Executando o grafo computacional\n",
        "with tf.Session() as sess: \n",
        "\t# Inicializando as variáveis\n",
        "\tsess.run(tf.global_variables_initializer())\n",
        "\t# Avaliando o node\n",
        "\tprint(\"\\nTensor original: \\n\", sess.run(node))\n",
        "\t# Adição element-wise no tensor\n",
        "\tnode = node.assign(node + tf.ones([2, 2]))\n",
        "\t# Avaliando o node novamente\n",
        "\tprint(\"\\nTensor depois da adição: \\n\", sess.run(node))"
      ],
      "execution_count": null,
      "outputs": [
        {
          "output_type": "stream",
          "text": [
            "\n",
            "Tensor original: \n",
            " [[0. 0.]\n",
            " [0. 0.]]\n",
            "\n",
            "Tensor depois da adição: \n",
            " [[1. 1.]\n",
            " [1. 1.]]\n"
          ],
          "name": "stdout"
        }
      ]
    },
    {
      "cell_type": "code",
      "metadata": {
        "id": "6jd4FI02GTUC",
        "colab_type": "code",
        "colab": {
          "base_uri": "https://localhost:8080/",
          "height": 68
        },
        "outputId": "beb949f5-8673-45bc-d728-b19de2273eb3"
      },
      "source": [
        "# Usando Placeholders\n",
        "# Crinado nodes no grafo computacional\n",
        "a = tf.placeholder(tf.int32, shape=(3,1))\n",
        "b = tf.placeholder(tf.int32, shape=(1,3))\n",
        "c = tf.matmul(a,b)\n",
        "\n",
        "# Executando o grafo computacional\n",
        "with tf.Session() as sess:\n",
        "\tprint(sess.run(c, feed_dict={a:[[3], [2], [1]], b:[[1,2,3]]})) # feed_dict permite que seja possível alimentar os tensores com qualquer valor"
      ],
      "execution_count": null,
      "outputs": [
        {
          "output_type": "stream",
          "text": [
            "[[3 6 9]\n",
            " [2 4 6]\n",
            " [1 2 3]]\n"
          ],
          "name": "stdout"
        }
      ]
    }
  ]
}