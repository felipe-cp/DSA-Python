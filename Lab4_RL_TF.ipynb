{
  "nbformat": 4,
  "nbformat_minor": 0,
  "metadata": {
    "colab": {
      "name": "Lab4_RL_TF.ipynb",
      "provenance": [],
      "authorship_tag": "ABX9TyNIaoYJ1B6KCsVd6KV9fKsA",
      "include_colab_link": true
    },
    "kernelspec": {
      "name": "python3",
      "display_name": "Python 3"
    }
  },
  "cells": [
    {
      "cell_type": "markdown",
      "metadata": {
        "id": "view-in-github",
        "colab_type": "text"
      },
      "source": [
        "<a href=\"https://colab.research.google.com/github/felipe-cp/DSA-Python/blob/master/Lab4_RL_TF.ipynb\" target=\"_parent\"><img src=\"https://colab.research.google.com/assets/colab-badge.svg\" alt=\"Open In Colab\"/></a>"
      ]
    },
    {
      "cell_type": "markdown",
      "metadata": {
        "id": "l7cmgECyGUqy",
        "colab_type": "text"
      },
      "source": [
        "# Lab 4 Construindo um modelo de Regressão Linear com TensorFlow"
      ]
    },
    {
      "cell_type": "code",
      "metadata": {
        "id": "uMHvRP6UGlXT",
        "colab_type": "code",
        "colab": {
          "base_uri": "https://localhost:8080/",
          "height": 88
        },
        "outputId": "8d30856e-b718-45e5-bd21-479738317c15"
      },
      "source": [
        "import tensorflow.compat.v1 as tf\n",
        "tf.disable_v2_behavior()\n",
        "import numpy as np\n",
        "import matplotlib.pyplot as plt\n",
        "%matplotlib inline"
      ],
      "execution_count": null,
      "outputs": [
        {
          "output_type": "stream",
          "text": [
            "WARNING:tensorflow:From /usr/local/lib/python3.6/dist-packages/tensorflow/python/compat/v2_compat.py:96: disable_resource_variables (from tensorflow.python.ops.variable_scope) is deprecated and will be removed in a future version.\n",
            "Instructions for updating:\n",
            "non-resource variables are not supported in the long term\n"
          ],
          "name": "stdout"
        }
      ]
    },
    {
      "cell_type": "code",
      "metadata": {
        "id": "JDEaZX-dHAS6",
        "colab_type": "code",
        "colab": {}
      },
      "source": [
        "# Hyperparâmetros do modelo\n",
        "learning_rate = 0.01\n",
        "training_epochs = 2000\n",
        "display_step = 200"
      ],
      "execution_count": null,
      "outputs": []
    },
    {
      "cell_type": "markdown",
      "metadata": {
        "id": "X9wRGBBNIWR1",
        "colab_type": "text"
      },
      "source": [
        "###1- Definindo os datasets de treino e teste\n",
        "###Considere X como o tamanho de uma casa e Y o preço de uma casa"
      ]
    },
    {
      "cell_type": "code",
      "metadata": {
        "id": "8SXfclG8Ifw9",
        "colab_type": "code",
        "colab": {}
      },
      "source": [
        "# Dataset de treino\n",
        "train_X = np.asarray([3.3,4.4,5.5,6.71,6.93,4.168,9.779,6.182,7.59,2.167,7.042,10.791,5.313,7.997,5.654,9.27,3.1])\n",
        "train_y = np.asarray([1.7,2.76,2.09,3.19,1.694,1.573,3.366,2.596,2.53,1.221,2.827,3.465,1.65,2.904,2.42,2.94,1.3])\n",
        "n_samples = train_X.shape[0]\n",
        " \n",
        "# Dataset de teste\n",
        "test_X = np.asarray([6.83, 4.668, 8.9, 7.91, 5.7, 8.7, 3.1, 2.1])\n",
        "test_y = np.asarray([1.84, 2.273, 3.2, 2.831, 2.92, 3.24, 1.35, 1.03])"
      ],
      "execution_count": null,
      "outputs": []
    },
    {
      "cell_type": "markdown",
      "metadata": {
        "id": "-umWaZ0yLobz",
        "colab_type": "text"
      },
      "source": [
        "###2- Placeholders e variáveis "
      ]
    },
    {
      "cell_type": "code",
      "metadata": {
        "id": "BNuiD0xVLwXi",
        "colab_type": "code",
        "colab": {}
      },
      "source": [
        "# Placeholders para as variáveis preditoras X (dados de entrada) e para variável targert Y (dados de saída)\n",
        "X = tf.placeholder(tf.float32) # Criando os tensores\n",
        "y = tf.placeholder(tf.float32) # Criando os tensores\n",
        " \n",
        "# Pesos e bias do modelo\n",
        "W = tf.Variable(np.random.randn(), name=\"weight\")\n",
        "b = tf.Variable(np.random.randn(), name=\"bias\")"
      ],
      "execution_count": null,
      "outputs": []
    },
    {
      "cell_type": "markdown",
      "metadata": {
        "id": "M56TdAYAUEIn",
        "colab_type": "text"
      },
      "source": [
        "### 3- Construindo o modelo linear (apredizagem supervisionada)"
      ]
    },
    {
      "cell_type": "code",
      "metadata": {
        "id": "2e_B-6KqUDF-",
        "colab_type": "code",
        "colab": {}
      },
      "source": [
        "# Note que já temos o valor de Y que são os preços, temos os valores de X que são os tamanhos, mas não temos W e b que são valores randomicos\n",
        "# Ao treinar o modelo o algoritmo estará descobrindo quais os melhores valores para W e b\n",
        "# Fórmula do modelo linear: y = W*X + b\n",
        "linear_model = W*X + b\n",
        "# linear_model é a previsão\n",
        "\n",
        "# Mean squared error (erro quadrado médio)\n",
        "cost = tf.reduce_sum(tf.square(linear_model - y)) / (2*n_samples)\n",
        "# cost é a taxa de erro\n",
        "\n",
        "# Otimização com Gradient descent\n",
        "optimizer = tf.train.GradientDescentOptimizer(learning_rate).minimize(cost)"
      ],
      "execution_count": null,
      "outputs": []
    },
    {
      "cell_type": "markdown",
      "metadata": {
        "id": "0ORmZFFxcoWu",
        "colab_type": "text"
      },
      "source": [
        "### 4- Executando o grafo computacional, treinando e testando o modelo"
      ]
    },
    {
      "cell_type": "code",
      "metadata": {
        "id": "JkYCwbAZUXKD",
        "colab_type": "code",
        "colab": {
          "base_uri": "https://localhost:8080/",
          "height": 785
        },
        "outputId": "7a14f0d4-ad95-480e-b122-3d8c2e6ce0d8"
      },
      "source": [
        "# Definindo a inicialização das variáveis\n",
        "init = tf.global_variables_initializer()\n",
        " \n",
        "# Iniciando a sessão\n",
        "with tf.Session() as sess:\n",
        "    # Iniciando as variáveis\n",
        "    sess.run(init)\n",
        " \n",
        "    # Treinamento do modelo\n",
        "    for epoch in range(training_epochs): # Loop for que fará 2000 passadas de treinamento para que o modelo possa aprender o valor de W e b, esse valor foi definido no passo 1\n",
        " \n",
        "        # Otimização com Gradient Descent\n",
        "        sess.run(optimizer, feed_dict={X: train_X, y: train_y})\n",
        "         \n",
        "        # Display de cada epoch\n",
        "        if (epoch+1) % display_step == 0:\n",
        "            c = sess.run(cost, feed_dict={X: train_X, y: train_y})\n",
        "            print(\"Epoch:{0:6} \\t Custo (Erro):{1:10.4} \\t W:{2:6.4} \\t b:{3:6.4}\".format(epoch+1, c, sess.run(W), sess.run(b)))\n",
        "             \n",
        "    # Imprimindo os parâmetros finais do modelo\n",
        "    print(\"\\nOtimização Concluída!\")\n",
        "    training_cost = sess.run(cost, feed_dict={X: train_X, y: train_y})\n",
        "    print(\"Custo Final de Treinamento:\", training_cost, \" - W Final:\", sess.run(W), \" - b Final:\", sess.run(b), '\\n')\n",
        "     \n",
        "    # Visualizando o resultado\n",
        "    plt.plot(train_X, train_y, 'ro', label='Dados Originais')\n",
        "    plt.plot(train_X, sess.run(W) * train_X + sess.run(b), label='Linha de Regressão')\n",
        "    plt.legend()\n",
        "    plt.show()\n",
        " \n",
        "    # Testando o modelo\n",
        "    testing_cost = sess.run(tf.reduce_sum(tf.square(linear_model - y)) / (2 * test_X.shape[0]), \n",
        "                            feed_dict={X: test_X, y: test_y})\n",
        "     \n",
        "    print(\"Custo Final em Teste:\", testing_cost)\n",
        "    print(\"Diferença Média Quadrada Absoluta:\", abs(training_cost - testing_cost))\n",
        " \n",
        "    # Display em Teste\n",
        "    plt.plot(test_X, test_y, 'bo', label='Dados de Teste')\n",
        "    plt.plot(train_X, sess.run(W) * train_X + sess.run(b), label='Linha de Regressão')\n",
        "    plt.legend()\n",
        "    plt.show()\n",
        "    \n",
        "sess.close()"
      ],
      "execution_count": null,
      "outputs": [
        {
          "output_type": "stream",
          "text": [
            "Epoch:   200 \t Custo (Erro):    0.2999 \t W:0.5193 \t b:-1.099\n",
            "Epoch:   400 \t Custo (Erro):    0.2141 \t W:0.4616 \t b:-0.6898\n",
            "Epoch:   600 \t Custo (Erro):    0.1613 \t W:0.4163 \t b:-0.3687\n",
            "Epoch:   800 \t Custo (Erro):    0.1288 \t W:0.3808 \t b:-0.1169\n",
            "Epoch:  1000 \t Custo (Erro):    0.1089 \t W:0.3529 \t b:0.08054\n",
            "Epoch:  1200 \t Custo (Erro):   0.09657 \t W:0.3311 \t b:0.2354\n",
            "Epoch:  1400 \t Custo (Erro):   0.08901 \t W: 0.314 \t b:0.3569\n",
            "Epoch:  1600 \t Custo (Erro):   0.08436 \t W:0.3005 \t b:0.4522\n",
            "Epoch:  1800 \t Custo (Erro):    0.0815 \t W:  0.29 \t b: 0.527\n",
            "Epoch:  2000 \t Custo (Erro):   0.07974 \t W:0.2817 \t b:0.5856\n",
            "\n",
            "Otimização Concluída!\n",
            "Custo Final de Treinamento: 0.07974259  - W Final: 0.28170827  - b Final: 0.5855948 \n",
            "\n"
          ],
          "name": "stdout"
        },
        {
          "output_type": "display_data",
          "data": {
            "image/png": "[encoded data removed]",
            "text/plain": [
              "<Figure size 432x288 with 1 Axes>"
            ]
          },
          "metadata": {
            "tags": [],
            "needs_background": "light"
          }
        },
        {
          "output_type": "stream",
          "text": [
            "Custo Final em Teste: 0.075300865\n",
            "Diferença Média Quadrada Absoluta: 0.004441723\n"
          ],
          "name": "stdout"
        },
        {
          "output_type": "display_data",
          "data": {
            "image/png": "[encoded data removed]",
            "text/plain": [
              "<Figure size 432x288 with 1 Axes>"
            ]
          },
          "metadata": {
            "tags": [],
            "needs_background": "light"
          }
        }
      ]
    }
  ]
}