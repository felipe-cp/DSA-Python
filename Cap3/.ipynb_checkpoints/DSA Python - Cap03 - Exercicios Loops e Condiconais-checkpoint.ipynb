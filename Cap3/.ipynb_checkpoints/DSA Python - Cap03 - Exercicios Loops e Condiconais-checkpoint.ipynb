{
 "cells": [
  {
   "cell_type": "code",
   "execution_count": null,
   "metadata": {},
   "outputs": [],
   "source": [
    "# Versão da Linguagem Python\n",
    "from platform import python_version\n",
    "print('Versão da Linguagem Python Usada Neste Jupyter Notebook:', python_version())"
   ]
  },
  {
   "cell_type": "markdown",
   "metadata": {},
   "source": [
    "# Exercícios - Loops e Condiconais"
   ]
  },
  {
   "cell_type": "code",
   "execution_count": null,
   "metadata": {},
   "outputs": [],
   "source": [
    "# Exercício 1 - Crie uma estrutura que pergunte ao usuário qual o dia da semana. Se o dia for igual a Domingo ou \n",
    "# igual a sábado, imprima na tela \"Hoje é dia de descanso\", caso contrário imprima na tela \"Você precisa trabalhar!\""
   ]
  },
  {
   "cell_type": "code",
   "execution_count": null,
   "metadata": {},
   "outputs": [],
   "source": [
    "dia = input(\"Digite o dia da semana: \")\n",
    "while dia != 'Domingo' and dia != 'Segunda' and dia != 'Terça' and dia != 'Quarta' and dia != 'Quinta' and dia != 'Sexta' and dia !='Sábado':\n",
    "    dia = input(\"Dia inválido, digite um dia da semana válido e coloque a primeira letra maiúscula: \")\n",
    "if dia == 'Domingo' or dia == 'Sábado':\n",
    "    print('Hoje é dia de descanso.')\n",
    "else:\n",
    "    print('Você precisa trabalhar!')"
   ]
  },
  {
   "cell_type": "code",
   "execution_count": null,
   "metadata": {},
   "outputs": [],
   "source": [
    "# Exercício 2 - Crie uma lista de 5 frutas e verifique se a fruta 'Morango' faz parte da lista"
   ]
  },
  {
   "cell_type": "code",
   "execution_count": 2,
   "metadata": {},
   "outputs": [
    {
     "name": "stdout",
     "output_type": "stream",
     "text": [
      "Digite uma fruta:Morango\n",
      "Digite uma fruta:Uva\n",
      "Digite uma fruta:Lichia\n",
      "Digite uma fruta:Mixirica\n",
      "Digite uma fruta:Amora\n",
      "Tem morango!\n"
     ]
    }
   ],
   "source": [
    "fruta = []\n",
    "i=0\n",
    "x=1\n",
    "for i in range (0,5):\n",
    "    memoria = input('Digite uma fruta:')\n",
    "    fruta.append(memoria)\n",
    "i=0\n",
    "for i in range (0,5):\n",
    "    if fruta[i] == 'Morango' or fruta[i] == 'morango':\n",
    "        x = 0\n",
    "if x == 0:\n",
    "    print('Tem morango!')\n",
    "else:\n",
    "    print('Não tem morango!')\n",
    "        "
   ]
  },
  {
   "cell_type": "code",
   "execution_count": 3,
   "metadata": {},
   "outputs": [],
   "source": [
    "# Exercício 3 - Crie uma tupla de 4 elementos, multiplique cada elemento da tupla por 2 e guarde os resultados em uma \n",
    "# lista"
   ]
  },
  {
   "cell_type": "code",
   "execution_count": 5,
   "metadata": {},
   "outputs": [
    {
     "name": "stdout",
     "output_type": "stream",
     "text": [
      "(10, 20, 30, 40)\n",
      "[20, 40, 60, 80]\n"
     ]
    }
   ],
   "source": [
    "tupla = (10, 20, 30, 40)\n",
    "i = 0\n",
    "lista = []\n",
    "resposta = []\n",
    "for i in range (0,4):\n",
    "    memoria = tupla[i]\n",
    "    lista.append(memoria)\n",
    "i=0\n",
    "for i in range (0,4):\n",
    "    memoria = lista[i]*2\n",
    "    resposta.append(memoria)\n",
    "print(tupla)\n",
    "print(resposta)"
   ]
  },
  {
   "cell_type": "code",
   "execution_count": null,
   "metadata": {},
   "outputs": [],
   "source": [
    "# Exercício 9 - Faça a correção dos erros no código abaixo e execute o programa. Dica: são 3 erros.\n",
    "# temperatura = float(input('Qual a temperatura? '))\n",
    "# if temperatura > 30\n",
    "# print('Vista roupas leves.')\n",
    "# else\n",
    "#     print('Busque seus casacos.')"
   ]
  },
  {
   "cell_type": "code",
   "execution_count": 7,
   "metadata": {},
   "outputs": [
    {
     "name": "stdout",
     "output_type": "stream",
     "text": [
      "Qual a temperatura?29\n",
      "Busque seus casacos.\n"
     ]
    }
   ],
   "source": [
    "temperatura = float(input('Qual a temperatura?'))\n",
    "if temperatura > 30:\n",
    "    print('Vista roupas leves.')\n",
    "else:\n",
    "    print('Busque seus casacos.')\n"
   ]
  },
  {
   "cell_type": "code",
   "execution_count": 9,
   "metadata": {},
   "outputs": [
    {
     "data": {
      "text/plain": [
       "11"
      ]
     },
     "execution_count": 9,
     "metadata": {},
     "output_type": "execute_result"
    }
   ],
   "source": [
    "sum = lambda x, y:   x + y  \n",
    "sum(2,9)"
   ]
  },
  {
   "cell_type": "code",
   "execution_count": null,
   "metadata": {},
   "outputs": [],
   "source": []
  }
 ],
 "metadata": {
  "kernelspec": {
   "display_name": "Python 3",
   "language": "python",
   "name": "python3"
  },
  "language_info": {
   "codemirror_mode": {
    "name": "ipython",
    "version": 3
   },
   "file_extension": ".py",
   "mimetype": "text/x-python",
   "name": "python",
   "nbconvert_exporter": "python",
   "pygments_lexer": "ipython3",
   "version": "3.6.10"
  }
 },
 "nbformat": 4,
 "nbformat_minor": 4
}
